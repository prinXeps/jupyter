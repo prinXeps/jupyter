{
 "cells": [
  {
   "cell_type": "code",
   "execution_count": 20,
   "id": "a9e7945f-409c-4519-82d4-23de43fcd736",
   "metadata": {},
   "outputs": [],
   "source": [
    "color = ['red', 'blue', 'green']"
   ]
  },
  {
   "cell_type": "code",
   "execution_count": 21,
   "id": "b110d6e8-50b5-4e49-9328-fbce9accf654",
   "metadata": {},
   "outputs": [],
   "source": [
    "color2 = ['orange','black','white']"
   ]
  },
  {
   "cell_type": "code",
   "execution_count": 23,
   "id": "d36d9fcd-5aa7-447a-b8ba-446b8a848c4d",
   "metadata": {},
   "outputs": [
    {
     "name": "stdout",
     "output_type": "stream",
     "text": [
      "['red', 'blue', 'green', 'orange', 'black', 'white']\n"
     ]
    }
   ],
   "source": [
    "print (color + color2)"
   ]
  },
  {
   "cell_type": "code",
   "execution_count": 24,
   "id": "fadfd825-9e27-42a9-ac61-3a46ed65f739",
   "metadata": {},
   "outputs": [
    {
     "data": {
      "text/plain": [
       "3"
      ]
     },
     "execution_count": 24,
     "metadata": {},
     "output_type": "execute_result"
    }
   ],
   "source": [
    "len(color)"
   ]
  },
  {
   "cell_type": "code",
   "execution_count": 25,
   "id": "9bd7a8e4-5cd6-4932-919b-e53ff925ee30",
   "metadata": {},
   "outputs": [
    {
     "data": {
      "text/plain": [
       "'red'"
      ]
     },
     "execution_count": 25,
     "metadata": {},
     "output_type": "execute_result"
    }
   ],
   "source": [
    "color[0]"
   ]
  },
  {
   "cell_type": "code",
   "execution_count": 27,
   "id": "fefc4ac9-5381-47d0-9445-6b3daaa44163",
   "metadata": {},
   "outputs": [],
   "source": [
    "color[0] = 'yellow'"
   ]
  },
  {
   "cell_type": "code",
   "execution_count": 28,
   "id": "ae679827-2cf9-44d4-821d-d0782073d40c",
   "metadata": {},
   "outputs": [],
   "source": [
    "print = color"
   ]
  },
  {
   "cell_type": "code",
   "execution_count": null,
   "id": "c72f11e1-6553-4437-9a07-e5f6d5d9b252",
   "metadata": {},
   "outputs": [],
   "source": []
  }
 ],
 "metadata": {
  "kernelspec": {
   "display_name": "Python 3 (ipykernel)",
   "language": "python",
   "name": "python3"
  },
  "language_info": {
   "codemirror_mode": {
    "name": "ipython",
    "version": 3
   },
   "file_extension": ".py",
   "mimetype": "text/x-python",
   "name": "python",
   "nbconvert_exporter": "python",
   "pygments_lexer": "ipython3",
   "version": "3.12.3"
  }
 },
 "nbformat": 4,
 "nbformat_minor": 5
}
