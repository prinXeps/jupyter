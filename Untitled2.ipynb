{
 "cells": [
  {
   "cell_type": "code",
   "execution_count": 1,
   "id": "d9d85efc-7a95-41c3-acc4-1e31f740737c",
   "metadata": {},
   "outputs": [],
   "source": [
    "color = ['red', 'blue', 'green']"
   ]
  },
  {
   "cell_type": "code",
   "execution_count": 2,
   "id": "fcc82378-5c2e-4648-bde0-482c9072d528",
   "metadata": {},
   "outputs": [],
   "source": [
    "color2 = ['orange','black','white']"
   ]
  },
  {
   "cell_type": "code",
   "execution_count": 3,
   "id": "c420788f-5821-444d-a747-227a5ff99181",
   "metadata": {},
   "outputs": [
    {
     "name": "stdout",
     "output_type": "stream",
     "text": [
      "['red', 'blue', 'green']\n"
     ]
    }
   ],
   "source": [
    "print (color)"
   ]
  },
  {
   "cell_type": "code",
   "execution_count": 4,
   "id": "c3127bae-e9de-400e-8452-cb99ace66124",
   "metadata": {},
   "outputs": [],
   "source": [
    "color[0] = 'yellow'"
   ]
  },
  {
   "cell_type": "code",
   "execution_count": 5,
   "id": "95efb2de-b0f1-491a-a0c5-468594a6a3b2",
   "metadata": {},
   "outputs": [
    {
     "name": "stdout",
     "output_type": "stream",
     "text": [
      "['yellow', 'blue', 'green']\n"
     ]
    }
   ],
   "source": [
    "print (color)"
   ]
  },
  {
   "cell_type": "code",
   "execution_count": 7,
   "id": "2c48dc5d-4a53-42bb-ad0a-4dfffc04fc3b",
   "metadata": {},
   "outputs": [
    {
     "data": {
      "text/plain": [
       "False"
      ]
     },
     "execution_count": 7,
     "metadata": {},
     "output_type": "execute_result"
    }
   ],
   "source": [
    "'blue' in color2"
   ]
  },
  {
   "cell_type": "code",
   "execution_count": 8,
   "id": "ba7d4855-6daa-45f1-8f35-44db21fbb1bd",
   "metadata": {},
   "outputs": [
    {
     "data": {
      "text/plain": [
       "True"
      ]
     },
     "execution_count": 8,
     "metadata": {},
     "output_type": "execute_result"
    }
   ],
   "source": [
    "'blue' in color"
   ]
  },
  {
   "cell_type": "code",
   "execution_count": 9,
   "id": "cda26881-78b1-4046-92bf-d2aa75abddd2",
   "metadata": {},
   "outputs": [],
   "source": [
    "total_color = color + color2"
   ]
  },
  {
   "cell_type": "code",
   "execution_count": 10,
   "id": "6ef85c77-2d79-4a6c-bc2e-4f43277d984d",
   "metadata": {},
   "outputs": [
    {
     "name": "stdout",
     "output_type": "stream",
     "text": [
      "['yellow', 'blue', 'green', 'orange', 'black', 'white']\n"
     ]
    }
   ],
   "source": [
    "print (total_color)"
   ]
  },
  {
   "cell_type": "code",
   "execution_count": 11,
   "id": "bc41a058-56b3-4032-ad84-8cc516fb2580",
   "metadata": {},
   "outputs": [
    {
     "name": "stdout",
     "output_type": "stream",
     "text": [
      "['yellow', 'green', 'black']\n"
     ]
    }
   ],
   "source": [
    "print (total_color[::2])"
   ]
  },
  {
   "cell_type": "code",
   "execution_count": 12,
   "id": "c56e58be-4fe1-4f46-a804-06e801ac442d",
   "metadata": {},
   "outputs": [
    {
     "name": "stdout",
     "output_type": "stream",
     "text": [
      "['white', 'black', 'orange', 'green', 'blue', 'yellow']\n"
     ]
    }
   ],
   "source": [
    "print (total_color[::-1])"
   ]
  },
  {
   "cell_type": "code",
   "execution_count": null,
   "id": "a074f19d-e2b8-4b35-a63f-d6f68058f634",
   "metadata": {},
   "outputs": [],
   "source": []
  }
 ],
 "metadata": {
  "kernelspec": {
   "display_name": "Python 3 (ipykernel)",
   "language": "python",
   "name": "python3"
  },
  "language_info": {
   "codemirror_mode": {
    "name": "ipython",
    "version": 3
   },
   "file_extension": ".py",
   "mimetype": "text/x-python",
   "name": "python",
   "nbconvert_exporter": "python",
   "pygments_lexer": "ipython3",
   "version": "3.12.3"
  }
 },
 "nbformat": 4,
 "nbformat_minor": 5
}
