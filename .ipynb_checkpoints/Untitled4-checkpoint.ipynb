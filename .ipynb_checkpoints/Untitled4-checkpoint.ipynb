{
 "cells": [
  {
   "cell_type": "code",
   "execution_count": 4,
   "id": "5acf5094-8b7b-44d7-93c5-ea555afa5976",
   "metadata": {},
   "outputs": [
    {
     "name": "stdout",
     "output_type": "stream",
     "text": [
      "one two\n",
      "three four\n",
      "1 2\n",
      "3 4\n"
     ]
    }
   ],
   "source": [
    "print('%s %s' % ('one', 'two'))\n",
    "print('{} {}'.format('three', 'four'))\n",
    "print('%d %d'%(1, 2))\n",
    "print('{} {}'.format(3, 4))"
   ]
  },
  {
   "cell_type": "code",
   "execution_count": 7,
   "id": "669c1b33-5ea4-4f3c-9605-6481154e1bca",
   "metadata": {},
   "outputs": [
    {
     "name": "stdout",
     "output_type": "stream",
     "text": [
      "I eat 3 apples.\n",
      "I eat five apples.\n",
      "I ate 3 apples. I was sick for three days.\n",
      "Product: Apple, Price per unit: 5.243000.\n"
     ]
    }
   ],
   "source": [
    "print(\"I eat %d apples.\" %3) # I eat 3 apples.\n",
    "print(\"I eat %s apples.\" %\"five\") # I eat five apples.\n",
    "number = 3; day=\"three\"\n",
    "print(\"I ate %d apples. I was sick for %s days.\"\n",
    "      %(number,day))\n",
    "print (\"Product: %s, Price per unit: %f.\"%(\"Apple\",5.243))"
   ]
  },
  {
   "cell_type": "code",
   "execution_count": 8,
   "id": "bf3f35b5-880d-4986-bac9-f26ddf170e9d",
   "metadata": {},
   "outputs": [
    {
     "name": "stdout",
     "output_type": "stream",
     "text": [
      "Product:      Apple, Price per unit:        5.2.\n"
     ]
    }
   ],
   "source": [
    "print (\"Product: %10s, Price per unit: %10.1f.\"%(\"Apple\",5.243))"
   ]
  },
  {
   "cell_type": "code",
   "execution_count": 10,
   "id": "047e60b4-95d4-4e4a-97f4-7ebd9ce7118b",
   "metadata": {},
   "outputs": [
    {
     "name": "stdout",
     "output_type": "stream",
     "text": [
      "Product: Apple, Price per unit: 5.2.\n"
     ]
    }
   ],
   "source": [
    "print (\"Product: %s, Price per unit: %.1f.\"%(\"Apple\",5.243))"
   ]
  },
  {
   "cell_type": "code",
   "execution_count": 18,
   "id": "8eedacdb-c595-4b12-9063-3af4076d233c",
   "metadata": {},
   "outputs": [
    {
     "name": "stdout",
     "output_type": "stream",
     "text": [
      "I'm 30 years old.\n",
      "My name is Taewon Kim and 30 years old.\n",
      "Product: Apple, Price per unit: 5.243.\n"
     ]
    }
   ],
   "source": [
    "age = 30; name='Taewon Kim'\n",
    "print(\"I'm {0} years old.\".format(age))\n",
    "print(\"My name is {0} and {1} years old.\".format(name,age))\n",
    "print(\"Product: {0}, Price per unit: {1:.3f}.\".format(\"Apple\",5.243))"
   ]
  },
  {
   "cell_type": "code",
   "execution_count": 19,
   "id": "79bdac4a-168f-4f75-9ff2-4e0b64fd7b40",
   "metadata": {},
   "outputs": [
    {
     "name": "stdout",
     "output_type": "stream",
     "text": [
      "My name is 30 and Taewon Kim years old.\n"
     ]
    }
   ],
   "source": [
    "print(\"My name is {1} and {0} years old.\".format(name,age))"
   ]
  },
  {
   "cell_type": "code",
   "execution_count": 31,
   "id": "ac44d845-9373-46cf-b309-18a2338c5bbf",
   "metadata": {},
   "outputs": [
    {
     "name": "stdout",
     "output_type": "stream",
     "text": [
      "Product: Apple, Price per unit: 5.24300.\n",
      "Product: Apple, Price per unit: 5.24300.\n"
     ]
    }
   ],
   "source": [
    "print(\"Product: %5s, Price per unit: %.5f.\" %(\"Apple\",5.243))\n",
    "print(\"Product: {0:5s}, Price per unit: {1:.5f}.\" .format(\"Apple\",5.243))"
   ]
  },
  {
   "cell_type": "code",
   "execution_count": 34,
   "id": "600e17b8-cdb3-4170-8a12-2dcbde04da0a",
   "metadata": {},
   "outputs": [
    {
     "name": "stdout",
     "output_type": "stream",
     "text": [
      "Product:      Apple, Price per unit:      5.243.\n",
      "Product:      Apple, Price per unit:      5.243.\n",
      "Product: Apple     , Price per unit:      5.243.\n",
      "Product: Straw berry         , Price per unit:       4.11\n"
     ]
    }
   ],
   "source": [
    "print(\"Product: %10s, Price per unit: %10.3f.\" %(\"Apple\",5.243))\n",
    "print(\"Product: {0:>10s}, Price per unit: {1:10.3f}.\" .format(\"Apple\",5.243))\n",
    "print(\"Product: {0:<10s}, Price per unit: {1:10.3f}.\" .format(\"Apple\",5.243))\n",
    "print(\"Product: {0:<20s}, Price per unit: {1:10.2f}\" .format(\"Straw berry\",4.11))"
   ]
  },
  {
   "cell_type": "code",
   "execution_count": 37,
   "id": "a0af7774-c498-464c-853a-3da696cc3119",
   "metadata": {},
   "outputs": [
    {
     "name": "stdout",
     "output_type": "stream",
     "text": [
      "Product:      Apple, Price per unit:    5.24300.\n",
      "Product: Apple     , Price per unit:    5.24300.\n"
     ]
    }
   ],
   "source": [
    "print(\"Product: %(name)10s, Price per unit: %(price)10.5f.\" %{\"name\":\"Apple\", \"price\":5.243})\n",
    "print(\"Product: {name:<10s}, Price per unit: {price:10.5f}.\".format(name=\"Apple\", price=5.243))"
   ]
  },
  {
   "cell_type": "code",
   "execution_count": null,
   "id": "95a8f4c4-1df4-404e-aded-57af61a6b647",
   "metadata": {},
   "outputs": [],
   "source": [
    "name = \"Taewon\"; age = 29"
   ]
  },
  {
   "cell_type": "code",
   "execution_count": 47,
   "id": "4ff9c98b-166c-4b09-90b6-19b1a3a371cb",
   "metadata": {},
   "outputs": [
    {
     "name": "stdout",
     "output_type": "stream",
     "text": [
      "Hello,Taewon. You are 29.\n"
     ]
    }
   ],
   "source": [
    "print(f\"Hello,{name}. You are {age}.\")"
   ]
  },
  {
   "cell_type": "code",
   "execution_count": 48,
   "id": "723d9beb-b080-4ecd-9aad-874208e886a0",
   "metadata": {},
   "outputs": [
    {
     "name": "stdout",
     "output_type": "stream",
     "text": [
      "Taewon              \n",
      "              Taewon\n"
     ]
    }
   ],
   "source": [
    "print(f'{name:20}')\n",
    "print(f'{name:>20}')"
   ]
  },
  {
   "cell_type": "code",
   "execution_count": 49,
   "id": "6015aa0f-af46-417f-b7a3-2ac9ea76b39f",
   "metadata": {},
   "outputs": [
    {
     "name": "stdout",
     "output_type": "stream",
     "text": [
      "Taewon**************\n",
      "**************Taewon\n",
      "*******Taewon*******\n"
     ]
    }
   ],
   "source": [
    "print(f'{name:*<20}')\n",
    "print(f'{name:*>20}')\n",
    "print(f'{name:*^20}')"
   ]
  },
  {
   "cell_type": "code",
   "execution_count": 45,
   "id": "027cab8d-bf85-4fa6-a620-6e40dbe7463d",
   "metadata": {},
   "outputs": [
    {
     "name": "stdout",
     "output_type": "stream",
     "text": [
      "3.14\n"
     ]
    }
   ],
   "source": [
    "number = 3.141592653589793\n",
    "print(f'{number:.2f}')"
   ]
  },
  {
   "cell_type": "code",
   "execution_count": 50,
   "id": "5636f622-d939-46b6-9d9c-7aa7d9e55c75",
   "metadata": {},
   "outputs": [
    {
     "name": "stdout",
     "output_type": "stream",
     "text": [
      "3.14******\n"
     ]
    }
   ],
   "source": [
    "number = 3.141592653589793\n",
    "print(f'{number:*<10.2f}')"
   ]
  },
  {
   "cell_type": "code",
   "execution_count": 51,
   "id": "5dc8d2c5-c337-48ce-b46f-d82e2ae83c2f",
   "metadata": {},
   "outputs": [
    {
     "name": "stdout",
     "output_type": "stream",
     "text": [
      "******3.14\n"
     ]
    }
   ],
   "source": [
    "number = 3.141592653589793\n",
    "print(f'{number:*>10.2f}')"
   ]
  },
  {
   "cell_type": "code",
   "execution_count": 52,
   "id": "d0cc551f-b16e-471f-b5e4-bb29fcb59ff0",
   "metadata": {},
   "outputs": [
    {
     "name": "stdout",
     "output_type": "stream",
     "text": [
      "***3.14***\n"
     ]
    }
   ],
   "source": [
    "number = 3.141592653589793\n",
    "print(f'{number:*^10.2f}')"
   ]
  },
  {
   "cell_type": "code",
   "execution_count": null,
   "id": "d8ff65da-2440-4fac-83e5-ebbf2ae4d1f8",
   "metadata": {},
   "outputs": [],
   "source": []
  }
 ],
 "metadata": {
  "kernelspec": {
   "display_name": "Python 3 (ipykernel)",
   "language": "python",
   "name": "python3"
  },
  "language_info": {
   "codemirror_mode": {
    "name": "ipython",
    "version": 3
   },
   "file_extension": ".py",
   "mimetype": "text/x-python",
   "name": "python",
   "nbconvert_exporter": "python",
   "pygments_lexer": "ipython3",
   "version": "3.12.3"
  }
 },
 "nbformat": 4,
 "nbformat_minor": 5
}
