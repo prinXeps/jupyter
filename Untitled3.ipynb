{
 "cells": [
  {
   "cell_type": "code",
   "execution_count": 2,
   "id": "a82b76c5-cb3c-4c89-9e15-2fe7683faef1",
   "metadata": {},
   "outputs": [],
   "source": [
    "color = ['red','blue','green']"
   ]
  },
  {
   "cell_type": "code",
   "execution_count": 5,
   "id": "a173049a-6b98-4bcf-bbe3-41dc0d537d1a",
   "metadata": {},
   "outputs": [],
   "source": [
    "color[0]='yellow'"
   ]
  },
  {
   "cell_type": "code",
   "execution_count": 8,
   "id": "8c994a5f-c6b6-4cbc-a2a1-649eb68d1fca",
   "metadata": {},
   "outputs": [],
   "source": [
    "color2 = ['orange','black','white']"
   ]
  },
  {
   "cell_type": "code",
   "execution_count": null,
   "id": "eaa7a225-c721-4bcb-824b-af4eedadcc3e",
   "metadata": {},
   "outputs": [],
   "source": [
    "color .append(\"white\")"
   ]
  }
 ],
 "metadata": {
  "kernelspec": {
   "display_name": "Python 3 (ipykernel)",
   "language": "python",
   "name": "python3"
  },
  "language_info": {
   "codemirror_mode": {
    "name": "ipython",
    "version": 3
   },
   "file_extension": ".py",
   "mimetype": "text/x-python",
   "name": "python",
   "nbconvert_exporter": "python",
   "pygments_lexer": "ipython3",
   "version": "3.12.3"
  }
 },
 "nbformat": 4,
 "nbformat_minor": 5
}
