{
 "cells": [
  {
   "cell_type": "code",
   "execution_count": null,
   "id": "5e61a843-6aa1-4f92-80fa-dc3d758c23d4",
   "metadata": {},
   "outputs": [],
   "source": []
  }
 ],
 "metadata": {
  "kernelspec": {
   "display_name": "",
   "name": ""
  },
  "language_info": {
   "name": ""
  }
 },
 "nbformat": 4,
 "nbformat_minor": 5
}
